{
 "cells": [
  {
   "cell_type": "markdown",
   "id": "72bf8932",
   "metadata": {},
   "source": [
    "# Project uses multiple models to get the best accuracy"
   ]
  },
  {
   "cell_type": "markdown",
   "id": "d82c8627",
   "metadata": {},
   "source": [
    "#### Project by Anmol Sharma"
   ]
  },
  {
   "cell_type": "code",
   "execution_count": 1,
   "id": "ae553441",
   "metadata": {},
   "outputs": [],
   "source": [
    "import random\n",
    "import json\n",
    "from sklearn.model_selection import train_test_split"
   ]
  },
  {
   "cell_type": "markdown",
   "id": "9fd0c899",
   "metadata": {},
   "source": [
    "## Creating various classes to optimise and classify data to our needs"
   ]
  },
  {
   "cell_type": "code",
   "execution_count": 2,
   "id": "78c019d5",
   "metadata": {},
   "outputs": [],
   "source": [
    "class Review:\n",
    "    def __init__(self, text, score):\n",
    "        self.text = text\n",
    "        self.score = score\n",
    "        self.sentiment = self.get_sentiment()\n",
    "\n",
    "    def get_sentiment(self):\n",
    "        if self.score <= 2:\n",
    "            return \"NEGATIVE\"\n",
    "        elif self.score == 3:\n",
    "            return \"NEUTRAL\"\n",
    "        if self.score >= 3:\n",
    "            return \"POSITIVE\""
   ]
  },
  {
   "cell_type": "code",
   "execution_count": 3,
   "id": "701b30f5",
   "metadata": {},
   "outputs": [],
   "source": [
    "class ReviewContainer:\n",
    "    def __init__(self, rev):\n",
    "        self.rev = rev\n",
    "\n",
    "    def evenly_distribute(self):\n",
    "        negative = list(filter(lambda x: x.sentiment == \"NEGATIVE\", self.rev))\n",
    "        positive = list(filter(lambda x: x.sentiment == \"POSITIVE\", self.rev))\n",
    "        positive_shrunk = positive[:len(negative)]\n",
    "        self.rev = positive_shrunk + negative\n",
    "        random.shuffle(self.rev)\n"
   ]
  },
  {
   "cell_type": "markdown",
   "id": "297ff1e6",
   "metadata": {},
   "source": [
    "## Importing the reviews csv and splitting data evenly as positive and negative (to train optimally)"
   ]
  },
  {
   "cell_type": "code",
   "execution_count": 4,
   "id": "425e8d8a",
   "metadata": {},
   "outputs": [
    {
     "name": "stdout",
     "output_type": "stream",
     "text": [
      "208 208\n"
     ]
    }
   ],
   "source": [
    "file_name = 'c:/Users/Lenovo/PycharmProjects/Giraffe/Books_small_10000.json'\n",
    "reviews = []\n",
    "with open(file_name) as f:\n",
    "    for line in f:\n",
    "        review = json.loads(line)\n",
    "        reviews.append(Review(review['reviewText'], review['overall']))\n",
    "\n",
    "training, test = train_test_split(reviews, test_size=0.33, random_state=42)\n",
    "\n",
    "train_cont = ReviewContainer(training)\n",
    "test_cont = ReviewContainer(test)\n",
    "\n",
    "train_cont.evenly_distribute()\n",
    "test_cont.evenly_distribute()\n",
    "\n",
    "train_x = [x.text for x in train_cont.rev]\n",
    "train_y = [x.sentiment for x in train_cont.rev]\n",
    "\n",
    "test_x = [x.text for x in test_cont.rev]\n",
    "test_y = [x.sentiment for x in test_cont.rev]\n",
    "\n",
    "print(test_y.count(\"POSITIVE\"), test_y.count(\"NEGATIVE\"))"
   ]
  },
  {
   "cell_type": "code",
   "execution_count": 5,
   "id": "07d6d942",
   "metadata": {},
   "outputs": [],
   "source": [
    "from sklearn.feature_extraction.text import CountVectorizer, TfidfVectorizer\n",
    "\n",
    "# Tfidfvectoriser is better as it ignores the words that are excessively used like was is, product etc, thus focuses on words like 'great', 'worst' etc.\n",
    "# Term Frequency Inverse Document Frequency Vectoriser\n",
    "\n",
    "# vec = CountVectorizer()\n",
    "vec = TfidfVectorizer()\n",
    "train_x_vecs = vec.fit_transform(train_x)\n",
    "test_x_vecs = vec.transform(test_x)"
   ]
  },
  {
   "cell_type": "markdown",
   "id": "0fe33cd9",
   "metadata": {},
   "source": [
    "## Classifiers:"
   ]
  },
  {
   "cell_type": "markdown",
   "id": "2ca694c1",
   "metadata": {},
   "source": [
    "### SVM"
   ]
  },
  {
   "cell_type": "code",
   "execution_count": 6,
   "id": "3c2e6dbb",
   "metadata": {},
   "outputs": [
    {
     "name": "stdout",
     "output_type": "stream",
     "text": [
      "['POSITIVE']\n"
     ]
    }
   ],
   "source": [
    "from sklearn import svm\n",
    "\n",
    "clf_svm = svm.SVC(kernel='rbf', C=4)\n",
    "clf_svm.fit(train_x_vecs, train_y)\n",
    "\n",
    "print(clf_svm.predict(test_x_vecs[0]))"
   ]
  },
  {
   "cell_type": "markdown",
   "id": "ac45b716",
   "metadata": {},
   "source": [
    "### Decision tree"
   ]
  },
  {
   "cell_type": "code",
   "execution_count": 7,
   "id": "d92555f1",
   "metadata": {},
   "outputs": [
    {
     "name": "stdout",
     "output_type": "stream",
     "text": [
      "['POSITIVE']\n"
     ]
    }
   ],
   "source": [
    "from sklearn.tree import DecisionTreeClassifier\n",
    "\n",
    "clf_dec = DecisionTreeClassifier()\n",
    "clf_dec.fit(train_x_vecs, train_y)\n",
    "\n",
    "print(clf_svm.predict(test_x_vecs[0]))"
   ]
  },
  {
   "cell_type": "markdown",
   "id": "b41d50dd",
   "metadata": {},
   "source": [
    "## Checking the score for each models"
   ]
  },
  {
   "cell_type": "code",
   "execution_count": 8,
   "id": "4b02525e",
   "metadata": {},
   "outputs": [
    {
     "name": "stdout",
     "output_type": "stream",
     "text": [
      "0.8197115384615384\n",
      "0.6322115384615384\n"
     ]
    }
   ],
   "source": [
    "print(clf_svm.score(test_x_vecs, test_y))\n",
    "print(clf_dec.score(test_x_vecs, test_y))"
   ]
  },
  {
   "cell_type": "code",
   "execution_count": 9,
   "id": "65ed7f0c",
   "metadata": {},
   "outputs": [
    {
     "name": "stdout",
     "output_type": "stream",
     "text": [
      "[0.82269504 0.81662592]\n",
      "['POSITIVE' 'NEGATIVE' 'POSITIVE']\n"
     ]
    }
   ],
   "source": [
    "# F1 scores, which are more important\n",
    "\n",
    "from sklearn.metrics import f1_score\n",
    "\n",
    "print(f1_score(test_y, clf_svm.predict(test_x_vecs), average=None, labels=['POSITIVE', 'NEGATIVE']))\n",
    "\n",
    "test_set = [\"Very high quality product, loved it.\", \"Horrible, doesn't work, waste of money\",\n",
    "            \"Excellent quality, suggested to buy.\"]\n",
    "new_test = vec.transform(test_set)\n",
    "print(clf_svm.predict(new_test))"
   ]
  },
  {
   "cell_type": "markdown",
   "id": "0c49e728",
   "metadata": {},
   "source": [
    "## Tuning the model  (with grid search)"
   ]
  },
  {
   "cell_type": "code",
   "execution_count": 10,
   "id": "ff0d4d97",
   "metadata": {},
   "outputs": [
    {
     "name": "stdout",
     "output_type": "stream",
     "text": [
      "{'C': 1, 'kernel': 'linear'}\n"
     ]
    }
   ],
   "source": [
    "from sklearn.model_selection import GridSearchCV\n",
    "\n",
    "parameters = {'kernel': ('linear', 'rbf'), 'C': (1, 4, 8, 16, 32)}\n",
    "\n",
    "tuned_svm = svm.SVC()\n",
    "\n",
    "# cv is for how many times we want cross validation\n",
    "clf = GridSearchCV(tuned_svm, parameters, cv=5)\n",
    "clf.fit(train_x_vecs, train_y)\n",
    "res = clf.best_params_\n",
    "print(res)"
   ]
  },
  {
   "cell_type": "markdown",
   "id": "a8ef3890",
   "metadata": {},
   "source": [
    "## Saving the model"
   ]
  },
  {
   "cell_type": "code",
   "execution_count": 11,
   "id": "67d6fb89",
   "metadata": {},
   "outputs": [],
   "source": [
    "import pickle\n",
    "\n",
    "with open('c:/Users/Lenovo/PycharmProjects/Giraffe//models/sentiment_classifier.pkl', 'wb') as f:\n",
    "    pickle.dump(clf, f)\n",
    "\n",
    "# loading the mmoel\n",
    "\n",
    "with open('c:/Users/Lenovo/PycharmProjects/Giraffe//models/sentiment_classifier.pkl', 'rb') as f:\n",
    "    loaded_clf = pickle.load(f)"
   ]
  },
  {
   "cell_type": "markdown",
   "id": "13dc1d57",
   "metadata": {},
   "source": [
    "## Final test"
   ]
  },
  {
   "cell_type": "code",
   "execution_count": 12,
   "id": "73bb34a9",
   "metadata": {},
   "outputs": [
    {
     "name": "stdout",
     "output_type": "stream",
     "text": [
      "I am forced to write twenty words, and don't have twenty words to say about these books. All I have to say is, loved the movie, but what I've read of these so far is mind numbingly boring.\n",
      "['POSITIVE']\n"
     ]
    }
   ],
   "source": [
    "print(test_x[1])\n",
    "print(loaded_clf.predict(test_x_vecs[1]))"
   ]
  }
 ],
 "metadata": {
  "kernelspec": {
   "display_name": "Python 3 (ipykernel)",
   "language": "python",
   "name": "python3"
  },
  "language_info": {
   "codemirror_mode": {
    "name": "ipython",
    "version": 3
   },
   "file_extension": ".py",
   "mimetype": "text/x-python",
   "name": "python",
   "nbconvert_exporter": "python",
   "pygments_lexer": "ipython3",
   "version": "3.8.6"
  }
 },
 "nbformat": 4,
 "nbformat_minor": 5
}

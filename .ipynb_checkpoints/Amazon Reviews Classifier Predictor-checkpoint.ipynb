{
 "cells": [
  {
   "cell_type": "markdown",
   "id": "4e4e0201",
   "metadata": {},
   "source": [
    "# Project uses multiple models to get the best accuracy"
   ]
  },
  {
   "cell_type": "markdown",
   "id": "6c3a6b63",
   "metadata": {},
   "source": [
    "#### Project by Anmol Sharma"
   ]
  },
  {
   "cell_type": "code",
   "execution_count": 9,
   "id": "83cb825a",
   "metadata": {},
   "outputs": [],
   "source": [
    "import random\n",
    "import json\n",
    "from sklearn.model_selection import train_test_split"
   ]
  },
  {
   "cell_type": "markdown",
   "id": "a6a74237",
   "metadata": {},
   "source": [
    "## Creating various classes to optimise and classify data to our needs"
   ]
  },
  {
   "cell_type": "code",
   "execution_count": null,
   "id": "0585c3d7",
   "metadata": {},
   "outputs": [],
   "source": [
    "class Review:\n",
    "    def __init__(self, text, score):\n",
    "        self.text = text\n",
    "        self.score = score\n",
    "        self.sentiment = self.get_sentiment()\n",
    "\n",
    "    def get_sentiment(self):\n",
    "        if self.score <= 2:\n",
    "            return \"NEGATIVE\"\n",
    "        elif self.score == 3:\n",
    "            return \"NEUTRAL\"\n",
    "        if self.score >= 3:\n",
    "            return \"POSITIVE\""
   ]
  },
  {
   "cell_type": "code",
   "execution_count": 5,
   "id": "5dd8d4db",
   "metadata": {},
   "outputs": [],
   "source": [
    "class ReviewContainer:\n",
    "    def __init__(self, rev):\n",
    "        self.rev = rev\n",
    "\n",
    "    def evenly_distribute(self):\n",
    "        negative = list(filter(lambda x: x.sentiment == \"NEGATIVE\", self.rev))\n",
    "        positive = list(filter(lambda x: x.sentiment == \"POSITIVE\", self.rev))\n",
    "        positive_shrunk = positive[:len(negative)]\n",
    "        self.rev = positive_shrunk + negative\n",
    "        random.shuffle(self.rev)\n"
   ]
  },
  {
   "cell_type": "markdown",
   "id": "f807fa51",
   "metadata": {},
   "source": [
    "## Importing the reviews csv and splitting data evenly as positive and negative (to train optimally)"
   ]
  },
  {
   "cell_type": "code",
   "execution_count": 13,
   "id": "40e3f167",
   "metadata": {},
   "outputs": [
    {
     "name": "stdout",
     "output_type": "stream",
     "text": [
      "208 208\n"
     ]
    }
   ],
   "source": [
    "file_name = 'c:/Users/Lenovo/PycharmProjects/Giraffe/Books_small_10000.json'\n",
    "reviews = []\n",
    "with open(file_name) as f:\n",
    "    for line in f:\n",
    "        review = json.loads(line)\n",
    "        reviews.append(Review(review['reviewText'], review['overall']))\n",
    "\n",
    "training, test = train_test_split(reviews, test_size=0.33, random_state=42)\n",
    "\n",
    "train_cont = ReviewContainer(training)\n",
    "test_cont = ReviewContainer(test)\n",
    "\n",
    "train_cont.evenly_distribute()\n",
    "test_cont.evenly_distribute()\n",
    "\n",
    "train_x = [x.text for x in train_cont.rev]\n",
    "train_y = [x.sentiment for x in train_cont.rev]\n",
    "\n",
    "test_x = [x.text for x in test_cont.rev]\n",
    "test_y = [x.sentiment for x in test_cont.rev]\n",
    "\n",
    "print(test_y.count(\"POSITIVE\"), test_y.count(\"NEGATIVE\"))"
   ]
  },
  {
   "cell_type": "code",
   "execution_count": 14,
   "id": "efcb69a4",
   "metadata": {},
   "outputs": [],
   "source": [
    "from sklearn.feature_extraction.text import CountVectorizer, TfidfVectorizer\n",
    "\n",
    "# Tfidfvectoriser is better as it ignores the words that are excessively used like was is, product etc, thus focuses on words like 'great', 'worst' etc.\n",
    "# Term Frequency Inverse Document Frequency Vectoriser\n",
    "\n",
    "# vec = CountVectorizer()\n",
    "vec = TfidfVectorizer()\n",
    "train_x_vecs = vec.fit_transform(train_x)\n",
    "test_x_vecs = vec.transform(test_x)"
   ]
  },
  {
   "cell_type": "markdown",
   "id": "b2475a0e",
   "metadata": {},
   "source": [
    "## Classifiers:"
   ]
  },
  {
   "cell_type": "markdown",
   "id": "1f70fef1",
   "metadata": {},
   "source": [
    "### SVM"
   ]
  },
  {
   "cell_type": "code",
   "execution_count": 15,
   "id": "2e1b8ef9",
   "metadata": {},
   "outputs": [
    {
     "name": "stdout",
     "output_type": "stream",
     "text": [
      "['POSITIVE']\n"
     ]
    }
   ],
   "source": [
    "from sklearn import svm\n",
    "\n",
    "clf_svm = svm.SVC(kernel='rbf', C=4)\n",
    "clf_svm.fit(train_x_vecs, train_y)\n",
    "\n",
    "print(clf_svm.predict(test_x_vecs[0]))"
   ]
  },
  {
   "cell_type": "markdown",
   "id": "7ed81b24",
   "metadata": {},
   "source": [
    "### Decision tree"
   ]
  },
  {
   "cell_type": "code",
   "execution_count": 16,
   "id": "e4aa59f2",
   "metadata": {},
   "outputs": [
    {
     "name": "stdout",
     "output_type": "stream",
     "text": [
      "['POSITIVE']\n"
     ]
    }
   ],
   "source": [
    "from sklearn.tree import DecisionTreeClassifier\n",
    "\n",
    "clf_dec = DecisionTreeClassifier()\n",
    "clf_dec.fit(train_x_vecs, train_y)\n",
    "\n",
    "print(clf_svm.predict(test_x_vecs[0]))"
   ]
  },
  {
   "cell_type": "markdown",
   "id": "6feed8c5",
   "metadata": {},
   "source": [
    "## Checking the score for each models"
   ]
  },
  {
   "cell_type": "code",
   "execution_count": 25,
   "id": "6529e087",
   "metadata": {},
   "outputs": [
    {
     "name": "stdout",
     "output_type": "stream",
     "text": [
      "0.8197115384615384\n",
      "0.6298076923076923\n"
     ]
    }
   ],
   "source": [
    "print(clf_svm.score(test_x_vecs, test_y))\n",
    "print(clf_dec.score(test_x_vecs, test_y))"
   ]
  },
  {
   "cell_type": "code",
   "execution_count": 27,
   "id": "09833ad9",
   "metadata": {},
   "outputs": [
    {
     "name": "stdout",
     "output_type": "stream",
     "text": [
      "[0.82269504 0.81662592]\n",
      "['POSITIVE' 'NEGATIVE' 'POSITIVE']\n"
     ]
    }
   ],
   "source": [
    "# F1 scores, which are more important\n",
    "\n",
    "from sklearn.metrics import f1_score\n",
    "\n",
    "print(f1_score(test_y, clf_svm.predict(test_x_vecs), average=None, labels=['POSITIVE', 'NEGATIVE']))\n",
    "\n",
    "test_set = [\"Very high quality product, loved it.\", \"Horrible, doesn't work, waste of money\",\n",
    "            \"Excellent quality, suggested to buy.\"]\n",
    "new_test = vec.transform(test_set)\n",
    "print(clf_svm.predict(new_test))"
   ]
  },
  {
   "cell_type": "markdown",
   "id": "e34ce12d",
   "metadata": {},
   "source": [
    "## Tuning the model  (with grid search)"
   ]
  },
  {
   "cell_type": "code",
   "execution_count": 28,
   "id": "acfa5d3c",
   "metadata": {},
   "outputs": [
    {
     "name": "stdout",
     "output_type": "stream",
     "text": [
      "{'C': 4, 'kernel': 'rbf'}\n"
     ]
    }
   ],
   "source": [
    "from sklearn.model_selection import GridSearchCV\n",
    "\n",
    "parameters = {'kernel': ('linear', 'rbf'), 'C': (1, 4, 8, 16, 32)}\n",
    "\n",
    "tuned_svm = svm.SVC()\n",
    "\n",
    "# cv is for how many times we want cross validation\n",
    "clf = GridSearchCV(tuned_svm, parameters, cv=5)\n",
    "clf.fit(train_x_vecs, train_y)\n",
    "res = clf.best_params_\n",
    "print(res)"
   ]
  },
  {
   "cell_type": "markdown",
   "id": "912989ff",
   "metadata": {},
   "source": [
    "## Saving the model"
   ]
  },
  {
   "cell_type": "code",
   "execution_count": 30,
   "id": "2bb43fa8",
   "metadata": {},
   "outputs": [],
   "source": [
    "import pickle\n",
    "\n",
    "with open('c:/Users/Lenovo/PycharmProjects/Giraffe//models/sentiment_classifier.pkl', 'wb') as f:\n",
    "    pickle.dump(clf, f)\n",
    "\n",
    "# loading the mmoel\n",
    "\n",
    "with open('c:/Users/Lenovo/PycharmProjects/Giraffe//models/sentiment_classifier.pkl', 'rb') as f:\n",
    "    loaded_clf = pickle.load(f)"
   ]
  },
  {
   "cell_type": "markdown",
   "id": "fc16c29a",
   "metadata": {},
   "source": [
    "## Final test"
   ]
  },
  {
   "cell_type": "code",
   "execution_count": 32,
   "id": "d652d3cf",
   "metadata": {},
   "outputs": [
    {
     "name": "stdout",
     "output_type": "stream",
     "text": [
      "Not for a beginner!!  Not what I was hoping for! Only has a hand full of oils in it and was a hard read for me.\n",
      "['NEGATIVE']\n"
     ]
    }
   ],
   "source": [
    "print(test_x[1])\n",
    "print(loaded_clf.predict(test_x_vecs[1]))"
   ]
  }
 ],
 "metadata": {
  "kernelspec": {
   "display_name": "Python 3 (ipykernel)",
   "language": "python",
   "name": "python3"
  },
  "language_info": {
   "codemirror_mode": {
    "name": "ipython",
    "version": 3
   },
   "file_extension": ".py",
   "mimetype": "text/x-python",
   "name": "python",
   "nbconvert_exporter": "python",
   "pygments_lexer": "ipython3",
   "version": "3.8.6"
  }
 },
 "nbformat": 4,
 "nbformat_minor": 5
}
